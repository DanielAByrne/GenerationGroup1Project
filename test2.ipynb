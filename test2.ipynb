{
 "cells": [
  {
   "cell_type": "code",
   "execution_count": 1,
   "id": "a3f528f7",
   "metadata": {},
   "outputs": [],
   "source": [
    "import pandas as pd"
   ]
  },
  {
   "cell_type": "code",
   "execution_count": 6,
   "id": "45161af4",
   "metadata": {},
   "outputs": [],
   "source": [
    "import re"
   ]
  },
  {
   "cell_type": "code",
   "execution_count": 4,
   "id": "b39d23d9",
   "metadata": {},
   "outputs": [
    {
     "name": "stdout",
     "output_type": "stream",
     "text": [
      "<class 'pandas.core.frame.DataFrame'>\n",
      "RangeIndex: 267 entries, 0 to 266\n",
      "Data columns (total 7 columns):\n",
      " #   Column          Non-Null Count  Dtype  \n",
      "---  ------          --------------  -----  \n",
      " 0   Date            267 non-null    object \n",
      " 1   Location        267 non-null    object \n",
      " 2   Customer Name   267 non-null    object \n",
      " 3   Order           267 non-null    object \n",
      " 4   Total Cost      267 non-null    float64\n",
      " 5   Payment Method  267 non-null    object \n",
      " 6   Card Number     182 non-null    float64\n",
      "dtypes: float64(2), object(5)\n",
      "memory usage: 14.7+ KB\n",
      "<class 'pandas.core.frame.DataFrame'>\n",
      "     orderindex                                            product Item Price\n",
      "0             0        Large Flavoured iced latte - Caramel - 3.25       3.25\n",
      "1             0     Regular Flavoured iced latte - Hazelnut - 2.75       2.75\n",
      "2             0      Regular Flavoured iced latte - Caramel - 2.75       2.75\n",
      "3             0       Large Flavoured iced latte - Hazelnut - 3.25       3.25\n",
      "4             0          Regular Flavoured latte - Hazelnut - 2.55       2.55\n",
      "..          ...                                                ...        ...\n",
      "772         264      Regular Flavoured iced latte - Caramel - 2.75       2.75\n",
      "773         264          Regular Flavoured latte - Hazelnut - 2.55       2.55\n",
      "774         264   Regular Flat white - 2.15                    ...           \n",
      "775         265  Regular Flavoured latte - Hazelnut - 2.55     ...           \n",
      "776         266  Large Flat white - 2.45                       ...           \n",
      "\n",
      "[777 rows x 3 columns]\n"
     ]
    },
    {
     "data": {
      "text/plain": [
       "0            Large Flavoured iced latte - Caramel - 3.25\n",
       "1         Regular Flavoured iced latte - Hazelnut - 2.75\n",
       "2          Regular Flavoured iced latte - Caramel - 2.75\n",
       "3           Large Flavoured iced latte - Hazelnut - 3.25\n",
       "4              Regular Flavoured latte - Hazelnut - 2.55\n",
       "                             ...                        \n",
       "772        Regular Flavoured iced latte - Caramel - 2.75\n",
       "773            Regular Flavoured latte - Hazelnut - 2.55\n",
       "774     Regular Flat white - 2.15                    ...\n",
       "775    Regular Flavoured latte - Hazelnut - 2.55     ...\n",
       "776    Large Flat white - 2.45                       ...\n",
       "Name: product, Length: 777, dtype: object"
      ]
     },
     "execution_count": 4,
     "metadata": {},
     "output_type": "execute_result"
    }
   ],
   "source": [
    "df = pd.read_csv('chesterfield_25-08-2021_09-00-00.csv')\n",
    "df.columns = [\"Date\", \"Location\", \"Customer Name\", \"Order\", \"Total Cost\", \"Payment Method\", \"Card Number\"]\n",
    "df.info()\n",
    "itemsdf=df[\"Order\"].str.split(\",\")\n",
    "itemsdf=itemsdf.explode()\n",
    "dfcust = df[\"Customer Name\"]\n",
    "# print(dfcust)\n",
    "df.drop([\"Customer Name\", \"Card Number\"], axis=1, inplace=True)\n",
    "df = df[\"Order\"]\n",
    "\n",
    "orders = []\n",
    "df = pd.DataFrame(itemsdf)\n",
    "print(type(df))\n",
    "# for order in df:\n",
    "#     orders+=order.split(',')\n",
    "# print(orders)\n",
    "prices = []\n",
    "for row in itemsdf:\n",
    "    prices.append(row[-4:])\n",
    "\n",
    "# print(prices)\n",
    "se = pd.Series(prices)\n",
    "df['Item Price'] = se.values\n",
    "df.reset_index(level=0, inplace=True)\n",
    "df.columns = [\"orderindex\",\"product\",\"Item Price\"]\n",
    "print(df)\n",
    "df['product']"
   ]
  },
  {
   "cell_type": "code",
   "execution_count": 7,
   "id": "61b0a0cb",
   "metadata": {},
   "outputs": [
    {
     "ename": "TypeError",
     "evalue": "expected string or bytes-like object",
     "output_type": "error",
     "traceback": [
      "\u001b[1;31m---------------------------------------------------------------------------\u001b[0m",
      "\u001b[1;31mTypeError\u001b[0m                                 Traceback (most recent call last)",
      "Input \u001b[1;32mIn [7]\u001b[0m, in \u001b[0;36m<module>\u001b[1;34m\u001b[0m\n\u001b[1;32m----> 1\u001b[0m d \u001b[38;5;241m=\u001b[39m \u001b[38;5;28mdict\u001b[39m(\u001b[43mre\u001b[49m\u001b[38;5;241;43m.\u001b[39;49m\u001b[43mfindall\u001b[49m\u001b[43m(\u001b[49m\u001b[38;5;124;43mr\u001b[39;49m\u001b[38;5;124;43m'\u001b[39;49m\u001b[38;5;124;43m(.*?)\u001b[39;49m\u001b[38;5;124;43m\\\u001b[39;49m\u001b[38;5;124;43ms*-\u001b[39;49m\u001b[38;5;124;43m\\\u001b[39;49m\u001b[38;5;124;43ms*(\u001b[39;49m\u001b[38;5;124;43m\\\u001b[39;49m\u001b[38;5;124;43md+(?:\u001b[39;49m\u001b[38;5;124;43m\\\u001b[39;49m\u001b[38;5;124;43m.\u001b[39;49m\u001b[38;5;124;43m\\\u001b[39;49m\u001b[38;5;124;43md+)?),?\u001b[39;49m\u001b[38;5;124;43m\\\u001b[39;49m\u001b[38;5;124;43ms*\u001b[39;49m\u001b[38;5;124;43m'\u001b[39;49m\u001b[43m,\u001b[49m\u001b[43m \u001b[49m\u001b[43mdf\u001b[49m\u001b[43m[\u001b[49m\u001b[38;5;124;43m\"\u001b[39;49m\u001b[38;5;124;43mproduct\u001b[39;49m\u001b[38;5;124;43m\"\u001b[39;49m\u001b[43m]\u001b[49m\u001b[43m)\u001b[49m)\n\u001b[0;32m      2\u001b[0m \u001b[38;5;28mprint\u001b[39m(d)\n",
      "File \u001b[1;32m~\\AppData\\Local\\Programs\\Python\\Python310\\lib\\re.py:240\u001b[0m, in \u001b[0;36mfindall\u001b[1;34m(pattern, string, flags)\u001b[0m\n\u001b[0;32m    232\u001b[0m \u001b[38;5;28;01mdef\u001b[39;00m \u001b[38;5;21mfindall\u001b[39m(pattern, string, flags\u001b[38;5;241m=\u001b[39m\u001b[38;5;241m0\u001b[39m):\n\u001b[0;32m    233\u001b[0m     \u001b[38;5;124;03m\"\"\"Return a list of all non-overlapping matches in the string.\u001b[39;00m\n\u001b[0;32m    234\u001b[0m \n\u001b[0;32m    235\u001b[0m \u001b[38;5;124;03m    If one or more capturing groups are present in the pattern, return\u001b[39;00m\n\u001b[1;32m   (...)\u001b[0m\n\u001b[0;32m    238\u001b[0m \n\u001b[0;32m    239\u001b[0m \u001b[38;5;124;03m    Empty matches are included in the result.\"\"\"\u001b[39;00m\n\u001b[1;32m--> 240\u001b[0m     \u001b[38;5;28;01mreturn\u001b[39;00m \u001b[43m_compile\u001b[49m\u001b[43m(\u001b[49m\u001b[43mpattern\u001b[49m\u001b[43m,\u001b[49m\u001b[43m \u001b[49m\u001b[43mflags\u001b[49m\u001b[43m)\u001b[49m\u001b[38;5;241;43m.\u001b[39;49m\u001b[43mfindall\u001b[49m\u001b[43m(\u001b[49m\u001b[43mstring\u001b[49m\u001b[43m)\u001b[49m\n",
      "\u001b[1;31mTypeError\u001b[0m: expected string or bytes-like object"
     ]
    }
   ],
   "source": [
    "d = dict(re.findall(r'(.*?)\\s*-\\s*(\\d+(?:\\.\\d+)?),?\\s*', df[\"product\"]))\n",
    "print(d)"
   ]
  },
  {
   "cell_type": "code",
   "execution_count": 8,
   "id": "7a153e4b",
   "metadata": {},
   "outputs": [],
   "source": [
    "str_df=str(df[\"product\"])"
   ]
  },
  {
   "cell_type": "code",
   "execution_count": 9,
   "id": "4a79f671",
   "metadata": {},
   "outputs": [
    {
     "data": {
      "text/plain": [
       "'0            Large Flavoured iced latte - Caramel - 3.25\\n1         Regular Flavoured iced latte - Hazelnut - 2.75\\n2          Regular Flavoured iced latte - Caramel - 2.75\\n3           Large Flavoured iced latte - Hazelnut - 3.25\\n4              Regular Flavoured latte - Hazelnut - 2.55\\n                             ...                        \\n772        Regular Flavoured iced latte - Caramel - 2.75\\n773            Regular Flavoured latte - Hazelnut - 2.55\\n774     Regular Flat white - 2.15                    ...\\n775    Regular Flavoured latte - Hazelnut - 2.55     ...\\n776    Large Flat white - 2.45                       ...\\nName: product, Length: 777, dtype: object'"
      ]
     },
     "execution_count": 9,
     "metadata": {},
     "output_type": "execute_result"
    }
   ],
   "source": [
    "str_df"
   ]
  },
  {
   "cell_type": "code",
   "execution_count": 10,
   "id": "57fa5f2c",
   "metadata": {},
   "outputs": [
    {
     "name": "stdout",
     "output_type": "stream",
     "text": [
      "{'0            Large Flavoured iced latte - Caramel': '3.25', '1         Regular Flavoured iced latte - Hazelnut': '2.75', '2          Regular Flavoured iced latte - Caramel': '2.75', '3           Large Flavoured iced latte - Hazelnut': '3.25', '4              Regular Flavoured latte - Hazelnut': '2.55', '772        Regular Flavoured iced latte - Caramel': '2.75', '773            Regular Flavoured latte - Hazelnut': '2.55', '774     Regular Flat white': '2.15', '775    Regular Flavoured latte - Hazelnut': '2.55', '776    Large Flat white': '2.45'}\n"
     ]
    }
   ],
   "source": [
    "d = dict(re.findall(r'(.*?)\\s*-\\s*(\\d+(?:\\.\\d+)?),?\\s*', str_df))\n",
    "print(d)"
   ]
  },
  {
   "cell_type": "code",
   "execution_count": null,
   "id": "68c25d0a",
   "metadata": {},
   "outputs": [],
   "source": [
    "output = pd.DataFrame()\n",
    "output = output.append(d, ignore_index=True)\n",
    "print(output.head())"
   ]
  }
 ],
 "metadata": {
  "kernelspec": {
   "display_name": "Python 3 (ipykernel)",
   "language": "python",
   "name": "python3"
  },
  "language_info": {
   "codemirror_mode": {
    "name": "ipython",
    "version": 3
   },
   "file_extension": ".py",
   "mimetype": "text/x-python",
   "name": "python",
   "nbconvert_exporter": "python",
   "pygments_lexer": "ipython3",
   "version": "3.10.0"
  }
 },
 "nbformat": 4,
 "nbformat_minor": 5
}
